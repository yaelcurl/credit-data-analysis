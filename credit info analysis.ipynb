{
 "cells": [
  {
   "cell_type": "markdown",
   "metadata": {},
   "source": [
    "### Initializing"
   ]
  },
  {
   "cell_type": "code",
   "execution_count": 2,
   "metadata": {
    "scrolled": false
   },
   "outputs": [
    {
     "name": "stderr",
     "output_type": "stream",
     "text": [
      "[nltk_data] Downloading package averaged_perceptron_tagger to\n",
      "[nltk_data]     C:\\Users\\Yael\\AppData\\Roaming\\nltk_data...\n",
      "[nltk_data]   Package averaged_perceptron_tagger is already up-to-\n",
      "[nltk_data]       date!\n"
     ]
    }
   ],
   "source": [
    "#imports\n",
    "import pandas as pd\n",
    "import bisect\n",
    "import numpy as np \n",
    "import nltk\n",
    "nltk.download('averaged_perceptron_tagger')\n",
    "from nltk.stem import WordNetLemmatizer\n",
    "from nltk.corpus import wordnet\n",
    "wordnet_lemma = WordNetLemmatizer()\n",
    "from nltk.stem import SnowballStemmer \n",
    "english_stemmer = SnowballStemmer('english')"
   ]
  },
  {
   "cell_type": "code",
   "execution_count": 45,
   "metadata": {},
   "outputs": [
    {
     "name": "stdout",
     "output_type": "stream",
     "text": [
      "<class 'pandas.core.frame.DataFrame'>\n",
      "RangeIndex: 21525 entries, 0 to 21524\n",
      "Data columns (total 12 columns):\n",
      "children            21525 non-null int64\n",
      "days_employed       19351 non-null float64\n",
      "dob_years           21525 non-null int64\n",
      "education           21525 non-null object\n",
      "education_id        21525 non-null int64\n",
      "family_status       21525 non-null object\n",
      "family_status_id    21525 non-null int64\n",
      "gender              21525 non-null object\n",
      "income_type         21525 non-null object\n",
      "debt                21525 non-null int64\n",
      "total_income        19351 non-null float64\n",
      "purpose             21525 non-null object\n",
      "dtypes: float64(2), int64(5), object(5)\n",
      "memory usage: 2.0+ MB\n"
     ]
    }
   ],
   "source": [
    "#Reading file and axamining general info\n",
    "credit_score=pd.read_csv('/datasets/credit_scoring_eng.csv')\n",
    "credit_score.info()"
   ]
  },
  {
   "cell_type": "markdown",
   "metadata": {},
   "source": [
    "2174 missing values in float64 columns days_employed, total_income "
   ]
  },
  {
   "cell_type": "markdown",
   "metadata": {},
   "source": [
    "### Data preprocessing"
   ]
  },
  {
   "cell_type": "markdown",
   "metadata": {},
   "source": [
    "#### Processing missing values"
   ]
  },
  {
   "cell_type": "code",
   "execution_count": 46,
   "metadata": {
    "scrolled": true
   },
   "outputs": [
    {
     "name": "stdout",
     "output_type": "stream",
     "text": [
      "[nan]\n",
      "Empty DataFrame\n",
      "Columns: [children, days_employed, dob_years, education, education_id, family_status, family_status_id, gender, income_type, debt, total_income, purpose]\n",
      "Index: []\n",
      "False\n",
      "<class 'pandas.core.frame.DataFrame'>\n",
      "RangeIndex: 21525 entries, 0 to 21524\n",
      "Data columns (total 12 columns):\n",
      "children            21525 non-null int64\n",
      "days_employed       21525 non-null float64\n",
      "dob_years           21525 non-null int64\n",
      "education           21525 non-null object\n",
      "education_id        21525 non-null int64\n",
      "family_status       21525 non-null object\n",
      "family_status_id    21525 non-null int64\n",
      "gender              21525 non-null object\n",
      "income_type         21525 non-null object\n",
      "debt                21525 non-null int64\n",
      "total_income        21525 non-null float64\n",
      "purpose             21525 non-null object\n",
      "dtypes: float64(2), int64(5), object(5)\n",
      "memory usage: 2.0+ MB\n",
      "None\n"
     ]
    }
   ],
   "source": [
    "#all missing values in days_employed correspond to missing values in total_income\n",
    "print(credit_score[credit_score['days_employed'].isnull()]['total_income'].unique())\n",
    "print(credit_score['days_employed'].min())\n",
    "print(credit_score['days_employed'].max())\n",
    "\n",
    "#map each days_employed null to average days_employed for the correspondind age, the same for toatl_income\n",
    "\n",
    "#print(credit_score[credit_score['days_employed']>=0]['days_employed'].min())\n",
    "#print(credit_score[credit_score['total_income']>=0]['total_income'].min())\n",
    "days_mapper_worker = credit_score[credit_score['days_employed']<=0].groupby('dob_years')['days_employed'].mean().to_dict()\n",
    "#print(days_mapper_worker)\n",
    "days_mapper_retiree = credit_score[credit_score['days_employed']>0].groupby('dob_years')['days_employed'].mean().to_dict()\n",
    "#print(days_mapper_retiree)\n",
    "income_mapper_worker = credit_score[credit_score['days_employed']<=0].groupby('dob_years')['total_income'].mean().to_dict()\n",
    "income_mapper_retiree = credit_score[credit_score['days_employed']>0].groupby('dob_years')['total_income'].mean().to_dict()\n",
    "\n",
    "def manage_nulls(row, column_name,mapper_worker, mapper_retiree):\n",
    "    #map null cells to the values in the input dicts, non-nulls are unchanged\n",
    "    if np.isnan(row[column_name]) or row[column_name] is None:\n",
    "        if row['income_type'] == 'retiree':           \n",
    "            return list(mapper_retiree.values())[bisect.bisect_left(list(mapper_retiree.keys()), row['dob_years'])]\n",
    "        else:\n",
    "            return list(mapper_worker.values())[bisect.bisect_left(list(mapper_worker.keys()), row['dob_years'])]\n",
    "    else:\n",
    "        return (row[column_name])\n",
    "\n",
    "credit_score['days_employed']=credit_score.apply(manage_nulls, axis=1, args=('days_employed',days_mapper_worker,days_mapper_retiree))\n",
    "credit_score['total_income']=credit_score.apply(manage_nulls, axis=1, args=('total_income',income_mapper_worker,income_mapper_retiree))\n",
    "      \n",
    "credit_score.info()"
   ]
  },
  {
   "cell_type": "markdown",
   "metadata": {},
   "source": [
    "We have nulls in days_employed and the corresponding total_income rows.\n",
    "Each null is mapped to the average days / income of his age (dob_years). \n",
    "since days_employed has extremely high values for retirees which affect the average, two separated dicts are used for retirees (days>0) and non-retirees (days<=0). \n",
    "if a customer with null has income_type == retiree the mapping is done using the retiree dict."
   ]
  },
  {
   "cell_type": "markdown",
   "metadata": {},
   "source": [
    "#### Data type replacement"
   ]
  },
  {
   "cell_type": "code",
   "execution_count": 47,
   "metadata": {
    "scrolled": true
   },
   "outputs": [
    {
     "name": "stdout",
     "output_type": "stream",
     "text": [
      "<class 'pandas.core.frame.DataFrame'>\n",
      "RangeIndex: 21525 entries, 0 to 21524\n",
      "Data columns (total 12 columns):\n",
      "children            21525 non-null int64\n",
      "days_employed       21525 non-null int64\n",
      "dob_years           21525 non-null int64\n",
      "education           21525 non-null object\n",
      "education_id        21525 non-null int64\n",
      "family_status       21525 non-null object\n",
      "family_status_id    21525 non-null int64\n",
      "gender              21525 non-null object\n",
      "income_type         21525 non-null object\n",
      "debt                21525 non-null int64\n",
      "total_income        21525 non-null int64\n",
      "purpose             21525 non-null object\n",
      "dtypes: int64(7), object(5)\n",
      "memory usage: 2.0+ MB\n",
      "None\n"
     ]
    }
   ],
   "source": [
    "credit_score=credit_score.astype({'days_employed' : 'int64', 'total_income' : 'int64'})\n",
    "print(credit_score.info())"
   ]
  },
  {
   "cell_type": "markdown",
   "metadata": {},
   "source": [
    "#### Processing duplicates"
   ]
  },
  {
   "cell_type": "code",
   "execution_count": 48,
   "metadata": {},
   "outputs": [
    {
     "name": "stdout",
     "output_type": "stream",
     "text": [
      "<class 'pandas.core.frame.DataFrame'>\n",
      "RangeIndex: 21454 entries, 0 to 21453\n",
      "Data columns (total 12 columns):\n",
      "children            21454 non-null int64\n",
      "days_employed       21454 non-null int64\n",
      "dob_years           21454 non-null int64\n",
      "education           21454 non-null object\n",
      "education_id        21454 non-null int64\n",
      "family_status       21454 non-null object\n",
      "family_status_id    21454 non-null int64\n",
      "gender              21454 non-null object\n",
      "income_type         21454 non-null object\n",
      "debt                21454 non-null int64\n",
      "total_income        21454 non-null int64\n",
      "purpose             21454 non-null object\n",
      "dtypes: int64(7), object(5)\n",
      "memory usage: 2.0+ MB\n",
      "None\n"
     ]
    }
   ],
   "source": [
    "#print(credit_score['education'].value_counts())\n",
    "\n",
    "for column in credit_score.columns:\n",
    "    if credit_score[column].dtype == 'object':\n",
    "        credit_score[column]=credit_score[column].str.lower()\n",
    "        \n",
    "credit_score=credit_score.drop_duplicates().reset_index(drop=True)\n",
    "print(credit_score.info())\n"
   ]
  },
  {
   "cell_type": "markdown",
   "metadata": {},
   "source": [
    "71 identical case insensitive duplicates removed"
   ]
  },
  {
   "cell_type": "markdown",
   "metadata": {},
   "source": [
    "### Lemmatization"
   ]
  },
  {
   "cell_type": "code",
   "execution_count": 49,
   "metadata": {},
   "outputs": [
    {
     "name": "stdout",
     "output_type": "stream",
     "text": [
      "wedding ceremony                                 791\n",
      "having a wedding                                 768\n",
      "to have a wedding                                765\n",
      "real estate transactions                         675\n",
      "buy commercial real estate                       661\n",
      "housing transactions                             652\n",
      "buying property for renting out                  651\n",
      "transactions with the residential real estate    650\n",
      "housing                                          646\n",
      "purchase of the house                            646\n",
      "purchase of the house for my family              638\n",
      "construction of own property                     635\n",
      "property                                         633\n",
      "transactions with my real estate                 627\n",
      "building a real estate                           624\n",
      "buy real estate                                  621\n",
      "purchase of my own house                         620\n",
      "building a property                              619\n",
      "property renovation                              607\n",
      "buy residential real estate                      606\n",
      "buying my own car                                505\n",
      "going to university                              496\n",
      "car                                              494\n",
      "second-hand car purchase                         486\n",
      "buying a second-hand car                         478\n",
      "to own a car                                     478\n",
      "cars                                             478\n",
      "to buy a car                                     471\n",
      "car purchase                                     461\n",
      "supplementary education                          460\n",
      "purchase of a car                                455\n",
      "university education                             452\n",
      "education                                        447\n",
      "to get asupplementary education                  446\n",
      "getting an education                             442\n",
      "profile education                                436\n",
      "getting higher education                         426\n",
      "to become educated                               408\n",
      "Name: purpose, dtype: int64\n",
      "real estate    10811\n",
      "car             4306\n",
      "education       4013\n",
      "wedding         2324\n",
      "Name: purpose_category, dtype: int64\n"
     ]
    }
   ],
   "source": [
    "#print(credit_score['education'].value_counts())\n",
    "#print(credit_score['family_status'].value_counts())\n",
    "#print(credit_score['gender'].value_counts())\n",
    "#print(credit_score['income_type'].value_counts())\n",
    "print(credit_score['purpose'].value_counts())\n",
    "\n",
    "def get_wordnet_pos(word):\n",
    "    \"\"\"Map POS tag to first character lemmatize() accepts\"\"\"\n",
    "    tag = nltk.tag.pos_tag([word])[0][1][0].upper()\n",
    "    tag_dict = {\"J\": wordnet.ADJ,\n",
    "                \"N\": wordnet.NOUN,\n",
    "                \"V\": wordnet.VERB,\n",
    "                \"R\": wordnet.ADV}\n",
    "    return tag_dict.get(tag, wordnet.NOUN)\n",
    "\n",
    "#create a list of all unique purpose variations and use them as keys of a mapping dict\n",
    "purpose_keys=credit_score['purpose'].unique()\n",
    "purpose_dict=dict.fromkeys(purpose_keys)\n",
    "#print(purpose_keys)\n",
    "\n",
    "#map each purpose key to a general category using lammatization and stemming of purpose column\n",
    "for key in purpose_keys:\n",
    "    tokens = nltk.word_tokenize(key)\n",
    "    lemmas = [wordnet_lemma.lemmatize(w, get_wordnet_pos(w)) for w in tokens]\n",
    "    stems = []\n",
    "    for lemma in lemmas:\n",
    "        stems.append(english_stemmer.stem(lemma))\n",
    "    if english_stemmer.stem('wedding') in stems: \n",
    "        purpose_dict[key] = 'wedding'\n",
    "    elif english_stemmer.stem('estate') in stems or english_stemmer.stem('house') in stems or english_stemmer.stem('property') in stems:\n",
    "        purpose_dict[key] = 'real estate'\n",
    "    elif english_stemmer.stem('car') in stems:\n",
    "        purpose_dict[key] = 'car'\n",
    "    elif english_stemmer.stem('university') in stems or english_stemmer.stem('education') in stems:\n",
    "        purpose_dict[key] = 'education'    \n",
    "    \n",
    "#print(purpose_dict)\n",
    "\n",
    "#create a new column in our dataFrame which maps purpose columns to the general categories according to the dictionary\n",
    "credit_score['purpose_category'] = credit_score['purpose'].map(purpose_dict)\n",
    "#now we can examine the true statistics of loan purposes \n",
    "print(credit_score['purpose_category'].value_counts())\n"
   ]
  },
  {
   "cell_type": "markdown",
   "metadata": {},
   "source": [
    "Customers take loans for same common purposes which can be united to 4 categories. \n",
    "~50% of loans were taken for real estate (residential or commercial)\n",
    "~20% of loans were taken for purchasing a car or funding education\n",
    "~10% of loans were taken for funding a wedding"
   ]
  },
  {
   "cell_type": "markdown",
   "metadata": {},
   "source": [
    "### Categorizing Data"
   ]
  },
  {
   "cell_type": "code",
   "execution_count": 50,
   "metadata": {
    "scrolled": false
   },
   "outputs": [],
   "source": [
    "#print(credit_score['children'].value_counts())\n",
    "#print(credit_score.loc[credit_score['days_employed']>0,['days_employed','total_income', 'income_type', 'debt','dob_years']].head(40))\n",
    "#print(credit_score[credit_score['days_employed']>0]['days_employed'].value_counts())\n",
    "#print(credit_score['dob_years'].value_counts())\n",
    "#print(credit_score['education'].value_counts())\n",
    "#print(credit_score['education_id'].value_counts())\n",
    "#print(credit_score['family_status'].value_counts())\n",
    "#print(credit_score['family_status_id'].value_counts())\n",
    "#print(credit_score['gender'].value_counts())\n",
    "#print(credit_score['income_type'].value_counts())\n",
    "#print(credit_score['debt'].value_counts())\n",
    "#print(credit_score[credit_score['total_income']!=0]['total_income'].min())"
   ]
  },
  {
   "cell_type": "code",
   "execution_count": 51,
   "metadata": {},
   "outputs": [],
   "source": [
    "#categorizing children\n",
    "def has_children(children):\n",
    "    if children > 0:\n",
    "        return 1\n",
    "    else:\n",
    "        return 0\n",
    "credit_score['has_children']=credit_score['children'].apply(has_children)\n"
   ]
  },
  {
   "cell_type": "code",
   "execution_count": 52,
   "metadata": {},
   "outputs": [
    {
     "name": "stdout",
     "output_type": "stream",
     "text": [
      "2-5        7260\n",
      "5-10       5324\n",
      "retiree    3831\n",
      "10-20      2455\n",
      "0-1        1827\n",
      "20-30       579\n",
      ">30         178\n",
      "Name: employment_years, dtype: int64\n"
     ]
    }
   ],
   "source": [
    "#categorizing days_employed\n",
    "def employment_years(days):\n",
    "    days = -1*days\n",
    "    if days < 0:\n",
    "        return 'retiree'\n",
    "    elif days == 0:\n",
    "        return 'unemployed'\n",
    "    elif days < 365:\n",
    "        return '0-1'\n",
    "    elif days < 5*365:\n",
    "        return '2-5'\n",
    "    elif days < 10*365:\n",
    "        return '5-10'\n",
    "    elif days < 20*365:\n",
    "        return '10-20'\n",
    "    elif days < 30*365:\n",
    "        return '20-30'\n",
    "    else:\n",
    "        return '>30'\n",
    "credit_score['employment_years']=credit_score['days_employed'].apply(employment_years)\n",
    "print(credit_score['employment_years'].value_counts())\n",
    "\n"
   ]
  },
  {
   "cell_type": "markdown",
   "metadata": {},
   "source": [
    "From examining both days and income type we can see all positive values are reffered retirees. These values make no sence (correspond to 900 years...) so we will ignore them during the analysis and will only use the category.\n",
    "The negative values of days reffer to employed and therefore categorized to years chunks"
   ]
  },
  {
   "cell_type": "code",
   "execution_count": 53,
   "metadata": {},
   "outputs": [
    {
     "name": "stdout",
     "output_type": "stream",
     "text": [
      "middle-aged adult    10607\n",
      "young-adult           5967\n",
      "older-adult           3884\n",
      "senior                 895\n",
      "child                  101\n",
      "Name: age_group, dtype: int64\n"
     ]
    }
   ],
   "source": [
    "#categorizing dob_years\n",
    "def age_group(age):\n",
    "    if age < 18:\n",
    "        return 'child'\n",
    "    elif age < 35:\n",
    "        return 'young-adult'\n",
    "    elif age < 55:\n",
    "        return 'middle-aged adult'\n",
    "    elif age < 65:\n",
    "        return 'older-adult'\n",
    "    else:\n",
    "        return 'senior'\n",
    "credit_score['age_group']=credit_score['dob_years'].apply(age_group)\n",
    "print(credit_score['age_group'].value_counts())\n"
   ]
  },
  {
   "cell_type": "markdown",
   "metadata": {},
   "source": [
    "Age is categorized to 5 common age groups"
   ]
  },
  {
   "cell_type": "code",
   "execution_count": 54,
   "metadata": {},
   "outputs": [
    {
     "name": "stdout",
     "output_type": "stream",
     "text": [
      "60-80     4306\n",
      "20-40     4291\n",
      "0-20      4291\n",
      "80-100    4291\n",
      "40-60     4275\n",
      "Name: total_income_percentile, dtype: int64\n"
     ]
    }
   ],
   "source": [
    "#categorizing total_income\n",
    "percentile_20 = np.percentile(credit_score['total_income'],20)\n",
    "percentile_40 = np.percentile(credit_score['total_income'],40)\n",
    "percentile_60 = np.percentile(credit_score['total_income'],60)\n",
    "percentile_80 = np.percentile(credit_score['total_income'],80)\n",
    "\n",
    "def total_income_percentile(income, percentile_20, percentile_40,percentile_60,percentile_80):\n",
    "    if income < percentile_20:\n",
    "        return '0-20'\n",
    "    elif income < percentile_40:\n",
    "        return '20-40'\n",
    "    elif income < percentile_60:\n",
    "        return '40-60'\n",
    "    elif income < percentile_80:\n",
    "        return '60-80'\n",
    "    else: \n",
    "        return '80-100'\n",
    "    \n",
    "credit_score['total_income_percentile']=credit_score['total_income'].apply(total_income_percentile, args=(percentile_20, percentile_40,percentile_60,percentile_80))\n",
    "print(credit_score['total_income_percentile'].value_counts())\n"
   ]
  },
  {
   "cell_type": "markdown",
   "metadata": {},
   "source": [
    "Total_income is categorized to 5 groups according to the percentile of each.\n"
   ]
  },
  {
   "cell_type": "markdown",
   "metadata": {},
   "source": [
    "### Analysis"
   ]
  },
  {
   "cell_type": "code",
   "execution_count": 66,
   "metadata": {},
   "outputs": [
    {
     "name": "stdout",
     "output_type": "stream",
     "text": [
      "has_children  debt\n",
      "0             0       13074\n",
      "              1        1064\n",
      "1             0        6639\n",
      "              1         677\n",
      "Name: debt, dtype: int64\n"
     ]
    },
    {
     "data": {
      "text/plain": [
       "has_children\n",
       "0    0.075258\n",
       "1    0.092537\n",
       "Name: debt, dtype: float64"
      ]
     },
     "execution_count": 66,
     "metadata": {},
     "output_type": "execute_result"
    }
   ],
   "source": [
    "#Is there a relation between having children and being a debtor?\n",
    "\n",
    "print(credit_score.groupby('has_children')['debt'].value_counts())\n",
    "#calculating probability to have debt\n",
    "(credit_score.groupby('has_children')['debt'].mean())"
   ]
  },
  {
   "cell_type": "markdown",
   "metadata": {},
   "source": [
    "If a customer has children he has a probability of 0.9 to pay a loan on time.\n",
    "If a customer has no children he has a probability of 0.92 to pay a loan on time.\n",
    "There is almost no relation between having children and being a debtor, only a tiny advantage for customers with no children."
   ]
  },
  {
   "cell_type": "code",
   "execution_count": 65,
   "metadata": {},
   "outputs": [
    {
     "name": "stdout",
     "output_type": "stream",
     "text": [
      "family_status      debt\n",
      "civil partnership  0        3763\n",
      "                   1         388\n",
      "divorced           0        1110\n",
      "                   1          85\n",
      "married            0       11408\n",
      "                   1         931\n",
      "unmarried          0        2536\n",
      "                   1         274\n",
      "widow / widower    0         896\n",
      "                   1          63\n",
      "Name: debt, dtype: int64\n"
     ]
    },
    {
     "data": {
      "text/html": [
       "<div>\n",
       "<style scoped>\n",
       "    .dataframe tbody tr th:only-of-type {\n",
       "        vertical-align: middle;\n",
       "    }\n",
       "\n",
       "    .dataframe tbody tr th {\n",
       "        vertical-align: top;\n",
       "    }\n",
       "\n",
       "    .dataframe thead th {\n",
       "        text-align: right;\n",
       "    }\n",
       "</style>\n",
       "<table border=\"1\" class=\"dataframe\">\n",
       "  <thead>\n",
       "    <tr style=\"text-align: right;\">\n",
       "      <th></th>\n",
       "      <th>debt</th>\n",
       "    </tr>\n",
       "    <tr>\n",
       "      <th>family_status</th>\n",
       "      <th></th>\n",
       "    </tr>\n",
       "  </thead>\n",
       "  <tbody>\n",
       "    <tr>\n",
       "      <td>civil partnership</td>\n",
       "      <td>0.093471</td>\n",
       "    </tr>\n",
       "    <tr>\n",
       "      <td>divorced</td>\n",
       "      <td>0.071130</td>\n",
       "    </tr>\n",
       "    <tr>\n",
       "      <td>married</td>\n",
       "      <td>0.075452</td>\n",
       "    </tr>\n",
       "    <tr>\n",
       "      <td>unmarried</td>\n",
       "      <td>0.097509</td>\n",
       "    </tr>\n",
       "    <tr>\n",
       "      <td>widow / widower</td>\n",
       "      <td>0.065693</td>\n",
       "    </tr>\n",
       "  </tbody>\n",
       "</table>\n",
       "</div>"
      ],
      "text/plain": [
       "                       debt\n",
       "family_status              \n",
       "civil partnership  0.093471\n",
       "divorced           0.071130\n",
       "married            0.075452\n",
       "unmarried          0.097509\n",
       "widow / widower    0.065693"
      ]
     },
     "execution_count": 65,
     "metadata": {},
     "output_type": "execute_result"
    }
   ],
   "source": [
    "#Is there a relation between marital status and being a debtor?\n",
    "\n",
    "print(credit_score.groupby('family_status')['debt'].value_counts())\n",
    "#calculating probability to have debt\n",
    "(pd.pivot_table(credit_score, values='debt', index=['family_status'], aggfunc=np.mean))\n"
   ]
  },
  {
   "cell_type": "markdown",
   "metadata": {},
   "source": [
    "There is almost no correlation between marital status and being a debtor. "
   ]
  },
  {
   "cell_type": "code",
   "execution_count": 64,
   "metadata": {},
   "outputs": [
    {
     "name": "stdout",
     "output_type": "stream",
     "text": [
      "total_income_percentile  debt\n",
      "0-20                     0       3947\n",
      "                         1        344\n",
      "20-40                    0       3939\n",
      "                         1        352\n",
      "40-60                    0       3889\n",
      "                         1        386\n",
      "60-80                    0       3946\n",
      "                         1        360\n",
      "80-100                   0       3992\n",
      "                         1        299\n",
      "Name: debt, dtype: int64\n"
     ]
    },
    {
     "data": {
      "text/html": [
       "<div>\n",
       "<style scoped>\n",
       "    .dataframe tbody tr th:only-of-type {\n",
       "        vertical-align: middle;\n",
       "    }\n",
       "\n",
       "    .dataframe tbody tr th {\n",
       "        vertical-align: top;\n",
       "    }\n",
       "\n",
       "    .dataframe thead th {\n",
       "        text-align: right;\n",
       "    }\n",
       "</style>\n",
       "<table border=\"1\" class=\"dataframe\">\n",
       "  <thead>\n",
       "    <tr style=\"text-align: right;\">\n",
       "      <th></th>\n",
       "      <th>debt</th>\n",
       "    </tr>\n",
       "    <tr>\n",
       "      <th>total_income_percentile</th>\n",
       "      <th></th>\n",
       "    </tr>\n",
       "  </thead>\n",
       "  <tbody>\n",
       "    <tr>\n",
       "      <td>0-20</td>\n",
       "      <td>0.080168</td>\n",
       "    </tr>\n",
       "    <tr>\n",
       "      <td>20-40</td>\n",
       "      <td>0.082032</td>\n",
       "    </tr>\n",
       "    <tr>\n",
       "      <td>40-60</td>\n",
       "      <td>0.090292</td>\n",
       "    </tr>\n",
       "    <tr>\n",
       "      <td>60-80</td>\n",
       "      <td>0.083604</td>\n",
       "    </tr>\n",
       "    <tr>\n",
       "      <td>80-100</td>\n",
       "      <td>0.069681</td>\n",
       "    </tr>\n",
       "  </tbody>\n",
       "</table>\n",
       "</div>"
      ],
      "text/plain": [
       "                             debt\n",
       "total_income_percentile          \n",
       "0-20                     0.080168\n",
       "20-40                    0.082032\n",
       "40-60                    0.090292\n",
       "60-80                    0.083604\n",
       "80-100                   0.069681"
      ]
     },
     "execution_count": 64,
     "metadata": {},
     "output_type": "execute_result"
    }
   ],
   "source": [
    "#Is there a relation between income level and being a debtor\n",
    "\n",
    "print(credit_score.groupby('total_income_percentile')['debt'].value_counts())\n",
    "#calculating probability to have debt\n",
    "(pd.pivot_table(credit_score, values='debt', index=['total_income_percentile'], aggfunc=np.mean))\n"
   ]
  },
  {
   "cell_type": "markdown",
   "metadata": {},
   "source": [
    "there is almost no relation between income level and being a debtor"
   ]
  },
  {
   "cell_type": "code",
   "execution_count": 63,
   "metadata": {},
   "outputs": [
    {
     "name": "stdout",
     "output_type": "stream",
     "text": [
      "purpose_category  debt\n",
      "car               0        3903\n",
      "                  1         403\n",
      "education         0        3643\n",
      "                  1         370\n",
      "real estate       0       10029\n",
      "                  1         782\n",
      "wedding           0        2138\n",
      "                  1         186\n",
      "Name: debt, dtype: int64\n"
     ]
    },
    {
     "data": {
      "text/html": [
       "<div>\n",
       "<style scoped>\n",
       "    .dataframe tbody tr th:only-of-type {\n",
       "        vertical-align: middle;\n",
       "    }\n",
       "\n",
       "    .dataframe tbody tr th {\n",
       "        vertical-align: top;\n",
       "    }\n",
       "\n",
       "    .dataframe thead th {\n",
       "        text-align: right;\n",
       "    }\n",
       "</style>\n",
       "<table border=\"1\" class=\"dataframe\">\n",
       "  <thead>\n",
       "    <tr style=\"text-align: right;\">\n",
       "      <th></th>\n",
       "      <th>debt</th>\n",
       "    </tr>\n",
       "    <tr>\n",
       "      <th>purpose_category</th>\n",
       "      <th></th>\n",
       "    </tr>\n",
       "  </thead>\n",
       "  <tbody>\n",
       "    <tr>\n",
       "      <td>car</td>\n",
       "      <td>0.093590</td>\n",
       "    </tr>\n",
       "    <tr>\n",
       "      <td>education</td>\n",
       "      <td>0.092200</td>\n",
       "    </tr>\n",
       "    <tr>\n",
       "      <td>real estate</td>\n",
       "      <td>0.072334</td>\n",
       "    </tr>\n",
       "    <tr>\n",
       "      <td>wedding</td>\n",
       "      <td>0.080034</td>\n",
       "    </tr>\n",
       "  </tbody>\n",
       "</table>\n",
       "</div>"
      ],
      "text/plain": [
       "                      debt\n",
       "purpose_category          \n",
       "car               0.093590\n",
       "education         0.092200\n",
       "real estate       0.072334\n",
       "wedding           0.080034"
      ]
     },
     "execution_count": 63,
     "metadata": {},
     "output_type": "execute_result"
    }
   ],
   "source": [
    "#How do different loan purposes affect on-time repayment of the loan?\n",
    "\n",
    "print(credit_score.groupby('purpose_category')['debt'].value_counts())\n",
    "#calculating probability to have debt\n",
    "(pd.pivot_table(credit_score, values='debt', index=['purpose_category'], aggfunc=np.mean))\n"
   ]
  },
  {
   "cell_type": "markdown",
   "metadata": {},
   "source": [
    "Different loan purposes have similar probabilities for being a debtor. "
   ]
  },
  {
   "cell_type": "markdown",
   "metadata": {},
   "source": [
    "### Conclusion"
   ]
  },
  {
   "cell_type": "markdown",
   "metadata": {},
   "source": [
    "The analysis above indicate that there are only minor differences in the probabilities to be a debtor when examining different parameters. Although for some categories we have more data (more customers) than others, when looking at each category independently we find that the probalility to pay a loan on time is around 0.9."
   ]
  }
 ],
 "metadata": {
  "kernelspec": {
   "display_name": "Python 3",
   "language": "python",
   "name": "python3"
  },
  "language_info": {
   "codemirror_mode": {
    "name": "ipython",
    "version": 3
   },
   "file_extension": ".py",
   "mimetype": "text/x-python",
   "name": "python",
   "nbconvert_exporter": "python",
   "pygments_lexer": "ipython3",
   "version": "3.7.4"
  }
 },
 "nbformat": 4,
 "nbformat_minor": 2
}
